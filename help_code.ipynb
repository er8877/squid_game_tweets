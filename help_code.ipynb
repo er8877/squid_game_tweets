{
 "cells": [
  {
   "cell_type": "code",
   "execution_count": 1,
   "metadata": {},
   "outputs": [
    {
     "name": "stdout",
     "output_type": "stream",
     "text": [
      "apple, banana, cherry\n",
      "h-e-l-l-o\n",
      "1 - 2 - 3 - 4 - 5\n"
     ]
    }
   ],
   "source": [
    "# Joining elements of a list into a string\n",
    "fruits = ['apple', 'banana', 'cherry']\n",
    "separator = ', '\n",
    "result_string = separator.join(fruits)\n",
    "print(result_string)  # Output: 'apple, banana, cherry'\n",
    "\n",
    "# Joining characters of a string into a string\n",
    "word = 'hello'\n",
    "separator = '-'\n",
    "result_string = separator.join(word)\n",
    "print(result_string)  # Output: 'h-e-l-l-o'\n",
    "\n",
    "# Joining numbers converted to strings into a string\n",
    "numbers = [1, 2, 3, 4, 5]\n",
    "separator = ' - '\n",
    "result_string = separator.join(map(str, numbers))  # Convert numbers to strings using map and then join\n",
    "print(result_string)  # Output: '1 - 2 - 3 - 4 - 5'\n"
   ]
  }
 ],
 "metadata": {
  "kernelspec": {
   "display_name": "Python 3",
   "language": "python",
   "name": "python3"
  },
  "language_info": {
   "codemirror_mode": {
    "name": "ipython",
    "version": 3
   },
   "file_extension": ".py",
   "mimetype": "text/x-python",
   "name": "python",
   "nbconvert_exporter": "python",
   "pygments_lexer": "ipython3",
   "version": "3.11.7"
  }
 },
 "nbformat": 4,
 "nbformat_minor": 2
}
